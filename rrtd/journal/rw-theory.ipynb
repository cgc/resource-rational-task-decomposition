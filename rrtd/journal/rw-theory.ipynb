{
 "cells": [
  {
   "cell_type": "code",
   "execution_count": 1,
   "id": "3c88821e-b222-46cc-83a9-dfdc45d43173",
   "metadata": {},
   "outputs": [
    {
     "name": "stdout",
     "output_type": "stream",
     "text": [
      "tomov_interop could not load matlab\n"
     ]
    },
    {
     "name": "stderr",
     "output_type": "stream",
     "text": [
      "R[write to console]: Loading required package: dfidx\n",
      "\n",
      "R[write to console]: \n",
      "Attaching package: ‘dfidx’\n",
      "\n",
      "\n",
      "R[write to console]: The following object is masked from ‘package:stats’:\n",
      "\n",
      "    filter\n",
      "\n",
      "\n"
     ]
    }
   ],
   "source": [
    "import numpy as np\n",
    "import seaborn as sns\n",
    "from tqdm.auto import tqdm\n",
    "import pandas as pd\n",
    "import matplotlib.pyplot as plt\n",
    "\n",
    "import sys\n",
    "sys.path.append('../')\n",
    "import automated_design\n",
    "import analysis\n",
    "import run_models\n",
    "import hitting_time"
   ]
  },
  {
   "cell_type": "code",
   "execution_count": 2,
   "id": "4cc9c799-cdbf-42ef-bbb9-c087b87199f1",
   "metadata": {},
   "outputs": [],
   "source": [
    "graphs = automated_design.download_bdm_graphs_8c()"
   ]
  },
  {
   "cell_type": "code",
   "execution_count": 3,
   "id": "950cd9e2-0d3e-415a-a4e4-537d6f58d9e5",
   "metadata": {},
   "outputs": [],
   "source": [
    "def corrcoef_stdhack(arr):\n",
    "    '''\n",
    "    When doing graph-wise cross-algo correlations, need to avoid nan's when SD is 0, since algorithms at time predict uniform.\n",
    "    '''\n",
    "    # We take care to check for predictions that are numerically close to uniform, since they otherwise can result in nonsensical correlations.\n",
    "    def _is_uniform(a):\n",
    "        return np.allclose(a, a[0])\n",
    "    is_uni = np.array([_is_uniform(a) for a in arr], dtype=bool)\n",
    "\n",
    "    # We intentionally allow NaN correlations that result from division by SD of 0.\n",
    "    with np.errstate(invalid='ignore'):\n",
    "        c = np.corrcoef(arr)\n",
    "    c[is_uni, :] = np.nan\n",
    "    c[:, is_uni] = np.nan\n",
    "    return c\n",
    "\n",
    "eps = 1e-8\n",
    "assert np.allclose(corrcoef_stdhack(np.array([\n",
    "    [0, 0+eps, 0-eps],\n",
    "    np.arange(3),\n",
    "    -np.arange(3),\n",
    "])), np.array([\n",
    "    [np.nan, np.nan, np.nan],\n",
    "    [np.nan, 1, -1],\n",
    "    [np.nan, -1, 1],\n",
    "]), equal_nan=True)"
   ]
  },
  {
   "cell_type": "code",
   "execution_count": 4,
   "id": "c3fe9741-8e39-45e4-881e-865bffe501d5",
   "metadata": {},
   "outputs": [],
   "source": [
    "def vector_corr(a, b):\n",
    "    c = corrcoef_stdhack(np.array([a, b]))\n",
    "    assert c.shape == (2, 2)\n",
    "    return c[0, 1]\n",
    "\n",
    "assert vector_corr(np.arange(3), -np.arange(3)) == -1"
   ]
  },
  {
   "cell_type": "markdown",
   "id": "019d8f3d-2ef1-45b5-80a3-8d5eebf7f991",
   "metadata": {},
   "source": [
    "# What is relationship between RRTD-RW with varying approximation vs QCut/DC?"
   ]
  },
  {
   "cell_type": "markdown",
   "id": "413cef29-67f6-489e-9e6b-4c247bc21c9c",
   "metadata": {},
   "source": [
    "## First, ensure regular graphs with rank 1 RRTD-RW are correlated to QCut"
   ]
  },
  {
   "cell_type": "code",
   "execution_count": 5,
   "id": "eeb89b73-8cb2-4112-b869-f2df68453a02",
   "metadata": {},
   "outputs": [
    {
     "data": {
      "text/plain": [
       "1.0"
      ]
     },
     "execution_count": 5,
     "metadata": {},
     "output_type": "execute_result"
    }
   ],
   "source": [
    "regular_graphs = [\n",
    "    g\n",
    "    for g in graphs\n",
    "    if all(\n",
    "        len(g.actions(s)) == len(g.actions(g.state_list[0]))\n",
    "        for s in g.state_list)\n",
    "]\n",
    "\n",
    "corrs = []\n",
    "for g in regular_graphs:\n",
    "    corrs.append(vector_corr(\n",
    "        run_models.rw_spectral_rank1(g)['scores'],\n",
    "        run_models.qcut(g)['scores'],\n",
    "    ))\n",
    "\n",
    "np.nanmean(corrs)"
   ]
  },
  {
   "cell_type": "markdown",
   "id": "ca37cd98-3731-4e7b-8114-7f0917f3f395",
   "metadata": {},
   "source": [
    "## Now, do a more general check across graphs."
   ]
  },
  {
   "cell_type": "code",
   "execution_count": 6,
   "id": "3b3d98c7-0ca8-447a-96fb-bc50f8f648ca",
   "metadata": {},
   "outputs": [
    {
     "data": {
      "application/vnd.jupyter.widget-view+json": {
       "model_id": "f3cb66a6e88c4492895bf2b3984bda43",
       "version_major": 2,
       "version_minor": 0
      },
      "text/plain": [
       "  0%|          | 0/11117 [00:00<?, ?it/s]"
      ]
     },
     "metadata": {},
     "output_type": "display_data"
    }
   ],
   "source": [
    "def rw_correlations(gs, base_models, models):\n",
    "    def _get_predictions(model, g):\n",
    "        return model.model(g)['scores']\n",
    "        # In initial submission, this figure was incorrectly generated with the following distribution:\n",
    "        # return getattr(run_models.SINGLETON, model.key)(g)['scores']\n",
    "\n",
    "    model_to_corrs = {m.key: [] for m in base_models}\n",
    "\n",
    "    for gi, g in enumerate(tqdm(gs)):\n",
    "        model_preds = {\n",
    "            m.key: _get_predictions(m, g)\n",
    "            for m in models\n",
    "        }\n",
    "\n",
    "        for base_model in base_models:\n",
    "            model_to_corrs[base_model.key].append({\n",
    "                m.name: vector_corr(\n",
    "                    _get_predictions(base_model, g),\n",
    "                    model_preds[m.key],\n",
    "                )\n",
    "                for m in models\n",
    "            })\n",
    "\n",
    "    df = None\n",
    "    for base_model in base_models:\n",
    "        corrs = model_to_corrs[base_model.key]\n",
    "        new_df = pd.DataFrame(corrs).mean().reset_index() # Dropping this would remove model names\n",
    "        new_df.columns = ['model', 'value']\n",
    "        new_df['base_model'] = base_model.name\n",
    "        if df is None:\n",
    "            df = new_df\n",
    "        else:\n",
    "            df = df.append(new_df)#.reset_index(drop=True)\n",
    "    df = df.reset_index(drop=True)\n",
    "    return df\n",
    "\n",
    "base = analysis.supp_rw_models[:2] # QCut and DC\n",
    "df = rw_correlations(graphs, base, analysis.supp_rw_models[2:])\n",
    "\n",
    "def _ensure_full_rank_same_as_non_spectral(df):\n",
    "    assert np.allclose(\n",
    "        df[df.model=='RRTD-RW (rank 7)'].value.values,\n",
    "        df[df.model=='RRTD-RW (full rank)'].value.values,\n",
    "        equal_nan=True,\n",
    "    )\n",
    "_ensure_full_rank_same_as_non_spectral(df)"
   ]
  },
  {
   "cell_type": "code",
   "execution_count": 7,
   "id": "e1dcf578-ae7a-4676-a5ea-ed3cb2a35fc3",
   "metadata": {},
   "outputs": [
    {
     "name": "stderr",
     "output_type": "stream",
     "text": [
      "The PostScript backend does not support transparency; partially transparent artists will be rendered opaque.\n"
     ]
    },
    {
     "data": {
      "image/png": "[encoded data removed]",
      "text/plain": [
       "<Figure size 432x288 with 1 Axes>"
      ]
     },
     "metadata": {
      "needs_background": "light"
     },
     "output_type": "display_data"
    }
   ],
   "source": [
    "def _plot(df):\n",
    "    sns.lineplot(\n",
    "        x='model',\n",
    "        y='value',\n",
    "        hue='base_model',\n",
    "        data=df,\n",
    "        marker='o',\n",
    "    )\n",
    "    plt.ylabel('Model Correlations')\n",
    "    plt.xlabel('')\n",
    "    plt.xticks(rotation=45, horizontalalignment='right')\n",
    "    plt.legend().set_title('')\n",
    "\n",
    "plt.figure()\n",
    "_plot(df[\n",
    "    # Exclude rank 7, since it's full rank, just computed in spectral way.\n",
    "    # Above assertion checks this.\n",
    "    (df.model != 'RRTD-RW (rank 7)')\n",
    "])\n",
    "analysis.savefig('dc-qcut-rw-spectral.*')"
   ]
  },
  {
   "cell_type": "markdown",
   "id": "d2251693-169c-469f-b097-781971810aec",
   "metadata": {},
   "source": [
    "# How does spectral gap relate to the DC<>RW correlation?"
   ]
  },
  {
   "cell_type": "code",
   "execution_count": 8,
   "id": "49c5fab4-c7ae-46b9-8244-7a1b237901f8",
   "metadata": {},
   "outputs": [
    {
     "data": {
      "application/vnd.jupyter.widget-view+json": {
       "model_id": "3e9f98bb19b341a38c0d118242e3f1cf",
       "version_major": 2,
       "version_minor": 0
      },
      "text/plain": [
       "  0%|          | 0/11117 [00:00<?, ?it/s]"
      ]
     },
     "metadata": {},
     "output_type": "display_data"
    }
   ],
   "source": [
    "df = []\n",
    "for g in tqdm(graphs):\n",
    "    c = vector_corr(\n",
    "        run_models.log_degree_centrality(g)['scores'],\n",
    "        run_models.rw(g)['scores'],\n",
    "    )\n",
    "    df.append(dict(\n",
    "        spectral_gap=hitting_time.spectral_gap(g),\n",
    "        dc_rw_corr=c,\n",
    "    ))"
   ]
  },
  {
   "cell_type": "code",
   "execution_count": 9,
   "id": "2ef2eeba-3c8d-4d8a-ae65-d6dc363b4af4",
   "metadata": {},
   "outputs": [
    {
     "data": {
      "image/png": "[encoded data removed]",
      "text/plain": [
       "<Figure size 360x288 with 2 Axes>"
      ]
     },
     "metadata": {
      "needs_background": "light"
     },
     "output_type": "display_data"
    }
   ],
   "source": [
    "plt.subplots(figsize=(5, 4))\n",
    "sns.histplot(\n",
    "    pd.DataFrame(df),\n",
    "    x='spectral_gap', y='dc_rw_corr',\n",
    "    bins=(100, 100),\n",
    "    cbar=True,\n",
    "    cbar_kws=dict(shrink=.75),\n",
    ")\n",
    "plt.xlabel('Spectral Gap (1 - $\\lambda_2$)')\n",
    "plt.ylabel('Model Correlation between\\nDegree Centrality and RRTD-RW')\n",
    "analysis.savefig('dc-rw-corr-vs-spectral-gap.*')"
   ]
  },
  {
   "cell_type": "code",
   "execution_count": null,
   "id": "766a0cfb-b9e1-49de-aa23-94166a4f9f57",
   "metadata": {},
   "outputs": [],
   "source": []
  }
 ],
 "metadata": {
  "kernelspec": {
   "display_name": "Python 3 (ipykernel)",
   "language": "python",
   "name": "python3"
  },
  "language_info": {
   "codemirror_mode": {
    "name": "ipython",
    "version": 3
   },
   "file_extension": ".py",
   "mimetype": "text/x-python",
   "name": "python",
   "nbconvert_exporter": "python",
   "pygments_lexer": "ipython3",
   "version": "3.9.9"
  }
 },
 "nbformat": 4,
 "nbformat_minor": 5
}
