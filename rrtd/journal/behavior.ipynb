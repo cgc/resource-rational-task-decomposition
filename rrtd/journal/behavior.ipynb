{
 "cells": [
  {
   "cell_type": "code",
   "execution_count": 1,
   "id": "005884b6-6f5e-491b-827f-daa2ada0db95",
   "metadata": {},
   "outputs": [
    {
     "name": "stdout",
     "output_type": "stream",
     "text": [
      "tomov_interop could not load matlab\n"
     ]
    },
    {
     "name": "stderr",
     "output_type": "stream",
     "text": [
      "R[write to console]: Loading required package: dfidx\n",
      "\n",
      "R[write to console]: \n",
      "Attaching package: ‘dfidx’\n",
      "\n",
      "\n",
      "R[write to console]: The following object is masked from ‘package:stats’:\n",
      "\n",
      "    filter\n",
      "\n",
      "\n"
     ]
    }
   ],
   "source": [
    "import analysis\n",
    "import analyze_v1_11_tools as tools1_11\n",
    "import joblib\n",
    "from tqdm.auto import tqdm\n",
    "import matplotlib.pyplot as plt\n",
    "import seaborn as sns\n",
    "import pandas as pd\n",
    "import numpy as np\n",
    "import run_models\n",
    "import scipy.stats\n",
    "import collections\n",
    "\n",
    "%matplotlib inline\n",
    "%load_ext autoreload\n",
    "%autoreload 2\n",
    "\n",
    "analysis.set_mpl_style()\n",
    "\n",
    "r = tools1_11.ro.r\n",
    "r_with_vars = tools1_11.r_with_vars"
   ]
  },
  {
   "cell_type": "code",
   "execution_count": 2,
   "id": "c15e543f-4186-42dd-91f9-e69631c9aa01",
   "metadata": {},
   "outputs": [
    {
     "name": "stdout",
     "output_type": "stream",
     "text": [
      "Modal sequence length=99 ['CircleGraphNavigationInstruction', 'SimpleInstruction', 'HTMLForm', 'CircleGraphNavigationx2', 'MapInstruction', 'CircleGraphNavigationx2', 'SimpleInstruction', 'CircleGraphNavigationx60', 'HTMLForm', 'CirclePathIdentificationx2', 'SimpleInstruction', 'CirclePathIdentificationx10', 'HTMLForm', 'CirclePathIdentificationx2', 'SimpleInstruction', 'CirclePathIdentificationx11', 'survey-multi-choice']\n",
      "summary of participant data. total participants 966\n",
      "\ttype complete | # participants 952\n",
      "\ttype did-at-most-12-things-then-restart | # participants 5\n",
      "\ttype instructions-twice | # participants 1\n",
      "\ttype unusable: completed after restart | # participants 8\n",
      "Modal sequence length=99 ['CircleGraphNavigationInstruction', 'SimpleInstruction', 'HTMLForm', 'CircleGraphNavigationx2', 'MapInstruction', 'CircleGraphNavigationx2', 'SimpleInstruction', 'CircleGraphNavigationx60', 'HTMLForm', 'CirclePathIdentificationx2', 'SimpleInstruction', 'CirclePathIdentificationx10', 'HTMLForm', 'CirclePathIdentificationx2', 'SimpleInstruction', 'CirclePathIdentificationx11', 'survey-multi-choice']\n",
      "summary of participant data. total participants 806\n",
      "\ttype complete | # participants 806\n"
     ]
    }
   ],
   "source": [
    "exp = analysis.load_exp1()"
   ]
  },
  {
   "cell_type": "markdown",
   "id": "fafafa9a-0025-4587-aaa0-b4d823ce5ece",
   "metadata": {},
   "source": [
    "# Intro of *Experiment Results*"
   ]
  },
  {
   "cell_type": "markdown",
   "id": "ca159fb5-0482-436c-aed8-07e831215776",
   "metadata": {},
   "source": [
    "## Exclusion criteria"
   ]
  },
  {
   "cell_type": "code",
   "execution_count": 3,
   "id": "a1b905d0-3021-4b30-a0ed-76a0c968b467",
   "metadata": {},
   "outputs": [],
   "source": [
    "def meansd(arr, *, percent=False):\n",
    "    M = np.mean(arr)\n",
    "    SD = np.std(arr)\n",
    "    if percent:\n",
    "        print(f'$M={100*M:.0f}\\\\%$')\n",
    "    else:\n",
    "        print(f'${M=:.2f}$ ${SD=:.2f}$')\n"
   ]
  },
  {
   "cell_type": "code",
   "execution_count": 4,
   "id": "8bb1cb0e-fa34-42b7-a3d9-e67ea7bf01d5",
   "metadata": {},
   "outputs": [
    {
     "name": "stdout",
     "output_type": "stream",
     "text": [
      "$M=85\\%$\n"
     ]
    }
   ],
   "source": [
    "meansd(len(exp.participants)/len(exp._rawexp.participants), percent=True)"
   ]
  },
  {
   "cell_type": "markdown",
   "id": "18532f2c-5e01-485c-8d23-8c8e784ffa47",
   "metadata": {},
   "source": [
    "## Descriptive stats"
   ]
  },
  {
   "cell_type": "code",
   "execution_count": 5,
   "id": "3b25f69a-1867-4052-bc84-c31d733ce691",
   "metadata": {},
   "outputs": [
    {
     "name": "stdout",
     "output_type": "stream",
     "text": [
      "$M=17.17$ $SD=8.02$\n"
     ]
    }
   ],
   "source": [
    "meansd(np.array([ped.elapsed_minutes() for ped in exp.participants]))"
   ]
  },
  {
   "cell_type": "code",
   "execution_count": 6,
   "id": "746fe60c-6788-49ed-9f4e-3b5117fda803",
   "metadata": {},
   "outputs": [
    {
     "name": "stdout",
     "output_type": "stream",
     "text": [
      "rel_to_optimal_percent\n",
      "early\t$M=136\\%$\n",
      "late\t$M=120\\%$\n",
      "\n",
      "rt_sec\n",
      "early\t$M=10.30$ $SD=29.74$\n",
      "late\t$M=7.60$ $SD=11.19$\n",
      "\n",
      "map_rt_sec\n",
      "early\t$M=9.01$ $SD=20.97$\n",
      "late\t$M=2.98$ $SD=12.66$\n",
      "\n",
      "map_num_states\n",
      "early\t$M=5.43$ $SD=8.70$\n",
      "late\t$M=1.38$ $SD=3.99$\n",
      "\n",
      "map_state_vis_sec\n",
      "early\t$M=2.52$ $SD=7.23$\n",
      "late\t$M=0.60$ $SD=9.04$\n",
      "\n",
      "is_optimal_percent\n",
      "early\t$M=70\\%$\n",
      "late\t$M=79\\%$\n",
      "\n",
      "state_repeated_percent\n",
      "early\t$M=14\\%$\n",
      "late\t$M=9\\%$\n",
      "\n"
     ]
    }
   ],
   "source": [
    "learn = []\n",
    "for p in exp.participants:\n",
    "    gi = p.config_idx()['graph']\n",
    "    for t in p.navigation_trials(return_obj=True):\n",
    "        if t.is_filler_trial:\n",
    "            continue\n",
    "        learn.append(dict(\n",
    "            pid=p.pid,\n",
    "            is_early=t.is_early_trial,\n",
    "            graph=gi,\n",
    "            rel_to_optimal_percent=t.action_count_relative_to_optimal,\n",
    "            is_optimal_percent=t.is_optimal,\n",
    "            rt_sec=t.trial_duration_sec,\n",
    "            map_rt_sec=t.map_duration_sec,\n",
    "            map_num_states=t.map_state_count,\n",
    "            map_state_vis_sec=t.map_state_hover_duration_sec,\n",
    "            state_repeated_percent=t.has_repeated_state_visit,\n",
    "        ))\n",
    "learn = pd.DataFrame(learn)\n",
    "\n",
    "early = learn.is_early\n",
    "late = ~early\n",
    "\n",
    "assert early.sum() == late.sum()\n",
    "assert np.isclose(early.sum(), learn.shape[0]/2)\n",
    "\n",
    "for k in [\n",
    "    'rel_to_optimal_percent',\n",
    "    'rt_sec',\n",
    "    'map_rt_sec',\n",
    "    'map_num_states',\n",
    "    'map_state_vis_sec',\n",
    "    'is_optimal_percent',\n",
    "    'state_repeated_percent',\n",
    "]:\n",
    "    p = 'percent' in k\n",
    "    print(k)\n",
    "\n",
    "    for name, var in [\n",
    "        ('early', early),\n",
    "        ('late', late),\n",
    "    ]:\n",
    "        print(name, end='\\t')\n",
    "        meansd(getattr(learn[var], k), percent=p)\n",
    "    print()"
   ]
  },
  {
   "cell_type": "markdown",
   "id": "fe985dfd-08e6-4eec-827a-ea7845985748",
   "metadata": {},
   "source": [
    "## Were there significant differences in participants counts by graph, after exclusion criteria?"
   ]
  },
  {
   "cell_type": "code",
   "execution_count": 7,
   "id": "f6549580-69ff-4467-a363-5fb1c57cbdcc",
   "metadata": {},
   "outputs": [
    {
     "name": "stdout",
     "output_type": "stream",
     "text": [
      "range before 27-34\n",
      "range after 21-30\n",
      "range of per-graph differences 3-8\n"
     ]
    }
   ],
   "source": [
    "def participant_counts_per_graph(exp):\n",
    "    grouped = exp.group_participants_by(lambda p: p.config_idx()['graph'])\n",
    "    return [len(grouped[i]) for i in range(len(grouped))]\n",
    "before_ct = participant_counts_per_graph(exp._rawexp)\n",
    "after_ct = participant_counts_per_graph(exp)\n",
    "diff_ct = (np.array(before_ct) - np.array(after_ct)).tolist()\n",
    "print(f'range before {min(before_ct)}-{max(before_ct)}')\n",
    "print(f'range after {min(after_ct)}-{max(after_ct)}')\n",
    "print(f'range of per-graph differences {min(diff_ct)}-{max(diff_ct)}')"
   ]
  },
  {
   "cell_type": "code",
   "execution_count": 8,
   "id": "8614ed6d-17d4-4908-a431-c665493845bb",
   "metadata": {},
   "outputs": [
    {
     "name": "stdout",
     "output_type": "stream",
     "text": [
      "\n",
      "\tPearson's Chi-squared test\n",
      "\n",
      "data:  df\n",
      "X-squared = 14.989, df = 29, p-value = 0.9851\n",
      "\n"
     ]
    },
    {
     "data": {
      "text/plain": [
       "<rpy2.rinterface_lib.sexp.NULLType object at 0x1729388c0> [RTYPES.NILSXP]"
      ]
     },
     "execution_count": 8,
     "metadata": {},
     "output_type": "execute_result"
    }
   ],
   "source": [
    "# https://mgimond.github.io/Stats-in-R/ChiSquare_test.html#3_two_factor_classification\n",
    "r_with_vars('''show(chisq.test(df))''', df=tools1_11.convert_df_to_rdf(pd.DataFrame(dict(excluded=diff_ct, not_excluded=after_ct))))"
   ]
  },
  {
   "cell_type": "code",
   "execution_count": 9,
   "id": "e84c1227-0365-4d22-a143-c7beafd63ad0",
   "metadata": {},
   "outputs": [
    {
     "data": {
      "text/plain": [
       "14.98874968831689"
      ]
     },
     "execution_count": 9,
     "metadata": {},
     "output_type": "execute_result"
    }
   ],
   "source": [
    "# Compute the X-squared value here explicitly to double check.\n",
    "\n",
    "def deviation_from_expected(exp, actual):\n",
    "    exp = exp / exp.sum() * actual.sum()\n",
    "    return ((exp - actual)**2 / exp).sum()\n",
    "\n",
    "def twofactor_chisq(f1, f2):\n",
    "    tot = f1 + f2\n",
    "    return deviation_from_expected(tot, f1) + deviation_from_expected(tot, f2)\n",
    "\n",
    "twofactor_chisq(np.array(after_ct), np.array(diff_ct))"
   ]
  },
  {
   "cell_type": "markdown",
   "id": "a5c30d22-47b8-4a07-919d-f2c4d35b3a2d",
   "metadata": {},
   "source": [
    "# *Subgoal probes are internally consistent and predict behavior*"
   ]
  },
  {
   "cell_type": "markdown",
   "id": "52c08422-dfcb-42a9-afc8-17c500b7f325",
   "metadata": {},
   "source": [
    "## Correlation within tasks"
   ]
  },
  {
   "cell_type": "code",
   "execution_count": 10,
   "id": "fd3ed2a0-17c1-4a45-947a-eb9c2bf536eb",
   "metadata": {},
   "outputs": [],
   "source": [
    "def participant_probe_choices_by_graph(exp, copy_, ntasks):\n",
    "    # First group particpants by graph\n",
    "    by_g = exp.group_participants_by(lambda p: p.config_idx()['graph'])\n",
    "\n",
    "    nstates = len(exp.mdps()[0].state_list) # just trying to avoid hardcoding\n",
    "\n",
    "    rv = {}\n",
    "    for gi, ps in by_g.items():\n",
    "        allcts = []\n",
    "        for p in ps:\n",
    "            cts = p.probe_choice_counts(copy=copy_)\n",
    "            assert cts.sum() == ntasks\n",
    "            allcts.append(cts)\n",
    "        rv[gi] = (ps, allcts)\n",
    "    return rv"
   ]
  },
  {
   "cell_type": "code",
   "execution_count": 11,
   "id": "2b7632d3-dce8-42d8-b6b5-813250d2a866",
   "metadata": {},
   "outputs": [
    {
     "name": "stdout",
     "output_type": "stream",
     "text": [
      "corr-to-all corr=0.71\n",
      "corr-to-all-except-curr corr=0.69\n",
      "corr-to-all corr=0.64\n",
      "corr-to-all-except-curr corr=0.61\n",
      "corr-to-all corr=0.37\n",
      "corr-to-all-except-curr corr=0.29\n"
     ]
    }
   ],
   "source": [
    "for copy_, ntasks in [\n",
    "    ('solway2014', 10),\n",
    "    ('subgoal', 10),\n",
    "    ('busStop', 1),\n",
    "]:\n",
    "    choices = participant_probe_choices_by_graph(exp, copy_, ntasks)\n",
    "\n",
    "    for name, subtract_ct in [('corr-to-all', False), ('corr-to-all-except-curr', True)]:\n",
    "        corrs = []\n",
    "        for gi, (ps, allcts) in choices.items():\n",
    "            nstates = len(ps[0].mdp().state_list) # just trying to avoid hardcoding\n",
    "            summed = np.sum(allcts, axis=0)\n",
    "            assert len(summed) == nstates\n",
    "            assert summed.sum() == len(ps) * ntasks\n",
    "            corrs.extend([\n",
    "                scipy.stats.pearsonr(\n",
    "                    ct,\n",
    "                    # Similar results whether or not we include current participant.\n",
    "                    (summed - ct if subtract_ct else summed),\n",
    "                )[0]\n",
    "                for ct in allcts\n",
    "            ])\n",
    "        print(f'{name} corr={np.mean(corrs):.2f}')"
   ]
  },
  {
   "cell_type": "markdown",
   "id": "eb13fe58-1a8d-4d81-bb64-3e20cb8deb64",
   "metadata": {},
   "source": [
    "## Correlation between tasks"
   ]
  },
  {
   "cell_type": "code",
   "execution_count": 12,
   "id": "79d1df3c-66e7-4ea0-a9f1-233ea663040e",
   "metadata": {},
   "outputs": [
    {
     "data": {
      "text/html": [
       "<div>\n",
       "<style scoped>\n",
       "    .dataframe tbody tr th:only-of-type {\n",
       "        vertical-align: middle;\n",
       "    }\n",
       "\n",
       "    .dataframe tbody tr th {\n",
       "        vertical-align: top;\n",
       "    }\n",
       "\n",
       "    .dataframe thead th {\n",
       "        text-align: right;\n",
       "    }\n",
       "</style>\n",
       "<table border=\"1\" class=\"dataframe\">\n",
       "  <thead>\n",
       "    <tr style=\"text-align: right;\">\n",
       "      <th></th>\n",
       "      <th>Explicit Probe</th>\n",
       "      <th>Implicit Probe</th>\n",
       "      <th>Teleportation Question</th>\n",
       "    </tr>\n",
       "  </thead>\n",
       "  <tbody>\n",
       "    <tr>\n",
       "      <th>Explicit Probe</th>\n",
       "      <td>1.000000</td>\n",
       "      <td>0.982077</td>\n",
       "      <td>0.582863</td>\n",
       "    </tr>\n",
       "    <tr>\n",
       "      <th>Implicit Probe</th>\n",
       "      <td>0.982077</td>\n",
       "      <td>1.000000</td>\n",
       "      <td>0.581718</td>\n",
       "    </tr>\n",
       "    <tr>\n",
       "      <th>Teleportation Question</th>\n",
       "      <td>0.582863</td>\n",
       "      <td>0.581718</td>\n",
       "      <td>1.000000</td>\n",
       "    </tr>\n",
       "  </tbody>\n",
       "</table>\n",
       "</div>"
      ],
      "text/plain": [
       "                        Explicit Probe  Implicit Probe  Teleportation Question\n",
       "Explicit Probe                1.000000        0.982077                0.582863\n",
       "Implicit Probe                0.982077        1.000000                0.581718\n",
       "Teleportation Question        0.582863        0.581718                1.000000"
      ]
     },
     "execution_count": 12,
     "metadata": {},
     "output_type": "execute_result"
    }
   ],
   "source": [
    "labs = []\n",
    "corr = np.zeros((3, len(exp.mdps()) * len(exp.mdps()[0].state_list)))\n",
    "for i, p in enumerate(analysis.probes):\n",
    "    choices = participant_probe_choices_by_graph(exp, p.key, 10 if p.random_effects else 1)\n",
    "    vec = []\n",
    "    for gi, (ps, allcts) in choices.items():\n",
    "        m = np.mean(allcts, axis=0)\n",
    "        nstates = len(ps[0].mdp().state_list)\n",
    "        assert len(m) == nstates\n",
    "        vec.append(m)\n",
    "    vec = np.concatenate(vec)\n",
    "    assert vec.shape == (len(choices) * nstates,)\n",
    "    corr[i] = vec\n",
    "    labs.append(p.name)\n",
    "pd.DataFrame(np.corrcoef(corr), index=labs, columns=labs)\n"
   ]
  },
  {
   "cell_type": "code",
   "execution_count": 13,
   "id": "ee365f8f-5481-45ff-b0ff-1c81431fa696",
   "metadata": {},
   "outputs": [
    {
     "name": "stdout",
     "output_type": "stream",
     "text": [
      "Explicit Probe Implicit Probe\n",
      "($r=0.98$, $p < .001$)\n",
      "Explicit Probe Teleportation Question\n",
      "($r=0.58$, $p < .001$)\n",
      "Implicit Probe Teleportation Question\n",
      "($r=0.58$, $p < .001$)\n"
     ]
    }
   ],
   "source": [
    "import itertools\n",
    "for (ai, a), (bi, b) in itertools.combinations(enumerate(analysis.probes), r=2):\n",
    "    print(a.name, b.name)\n",
    "    c, pv = scipy.stats.pearsonr(corr[ai], corr[bi])\n",
    "    print(f'($r={c:.02f}$, ${analysis.pvalue(pv)}$)')\n"
   ]
  },
  {
   "cell_type": "markdown",
   "id": "13d5bb31-901d-46e0-a976-8e08f8f4cfa3",
   "metadata": {},
   "source": [
    "## Is subgoal selection associated with more efficient behavior? Measured by relative path length and RT."
   ]
  },
  {
   "cell_type": "code",
   "execution_count": 14,
   "id": "79f5b707-76c2-4a11-9e8f-6fb609bb67b5",
   "metadata": {},
   "outputs": [],
   "source": [
    "df = []\n",
    "for p in exp.participants:\n",
    "    nav_trials = [\n",
    "        t\n",
    "        for t in p.navigation_trials(return_obj=True)\n",
    "        if not t.is_filler_trial\n",
    "    ]\n",
    "\n",
    "    df.append(dict(\n",
    "        subgoal_choice_count=p.subgoal_choice_count_on_explicit_trials(),\n",
    "        relative_path_length=np.mean([\n",
    "            t.action_count_relative_to_optimal\n",
    "            for t in nav_trials\n",
    "        ]),\n",
    "        log_navigation_rt_sec=np.mean([\n",
    "            np.log(t.trial_duration_sec)\n",
    "            for t in nav_trials\n",
    "        ]),\n",
    "    ))\n",
    "\n",
    "df = pd.DataFrame(df)"
   ]
  },
  {
   "cell_type": "code",
   "execution_count": 15,
   "id": "1b15faa4-8322-4c21-8372-56bb437abe5d",
   "metadata": {},
   "outputs": [
    {
     "name": "stdout",
     "output_type": "stream",
     "text": [
      "subgoal_choice_count\n",
      "($r=1.00$, $p < .001$)\n",
      "\n",
      "relative_path_length\n",
      "($r=-0.29$, $p < .001$)\n",
      "\n",
      "log_navigation_rt_sec\n",
      "($r=0.01$, $p = .858$)\n",
      "\n"
     ]
    }
   ],
   "source": [
    "for var in df.columns:\n",
    "    print(var)\n",
    "    c, pv = scipy.stats.pearsonr(df.subgoal_choice_count, df[var])\n",
    "    print(f'($r={c:.02f}$, ${analysis.pvalue(pv)}$)')\n",
    "    print()"
   ]
  },
  {
   "cell_type": "code",
   "execution_count": 16,
   "id": "6b2b1a29-ae9c-43a6-b283-a264fa75f2d2",
   "metadata": {},
   "outputs": [
    {
     "data": {
      "image/png": "[encoded data removed]",
      "text/plain": [
       "<Figure size 640x480 with 1 Axes>"
      ]
     },
     "metadata": {},
     "output_type": "display_data"
    }
   ],
   "source": [
    "plt.figure()\n",
    "sns.boxplot(y='relative_path_length', x='subgoal_choice_count', data=df)\n",
    "plt.xlabel('Subgoal choice count')\n",
    "plt.ylabel('Relative path length')\n",
    "analysis.savefig('gcr-pathlen.*')"
   ]
  },
  {
   "cell_type": "markdown",
   "id": "770d7a3a-1db4-4917-92f0-f572f54ff4bf",
   "metadata": {},
   "source": [
    "## Are people's navigation choices consistent with their subsequent subgoal choices?\n",
    "\n",
    "- Note: for \"goal\" responses for \"subgoal\" probe, the goal (their \"subgoal choice\") must always be consistent with their selection, since the goal appears on all paths."
   ]
  },
  {
   "cell_type": "code",
   "execution_count": 17,
   "id": "7445cfd5-2294-4dc4-85ed-127b7d81f948",
   "metadata": {},
   "outputs": [],
   "source": [
    "import pred_optimal_choice"
   ]
  },
  {
   "cell_type": "code",
   "execution_count": 18,
   "id": "3262dd03-b438-47d2-aa56-c33955938720",
   "metadata": {},
   "outputs": [
    {
     "name": "stdout",
     "output_type": "stream",
     "text": [
      "\n",
      "Call:\n",
      "mlogit(formula = choice ~ probe_choice_match_subgoal - 1 | 0 | \n",
      "    0, data = dff, rpar = NULL, R = R, halton = NA, panel = FALSE, \n",
      "    method = \"nr\")\n",
      "\n",
      "Frequencies of alternatives:choice\n",
      "        0         1         2         3         4         5 \n",
      "0.3952046 0.4241422 0.1550227 0.0206697 0.0024804 0.0024804 \n",
      "\n",
      "nr method\n",
      "3 iterations, 0h:0m:0s \n",
      "g'(-H)^-1g = 0.0023 \n",
      "successive function values within tolerance limits \n",
      "\n",
      "Coefficients :\n",
      "                               Estimate Std. Error z-value  Pr(>|z|)    \n",
      "probe_choice_match_subgoalTRUE 0.463387   0.063204  7.3317 2.274e-13 ***\n",
      "---\n",
      "Signif. codes:  0 ‘***’ 0.001 ‘**’ 0.01 ‘*’ 0.05 ‘.’ 0.1 ‘ ’ 1\n",
      "\n",
      "Log-Likelihood: -2161.8\n",
      "Likelihood ratio test\n",
      "\n",
      "Model 1: choice ~ -1\n",
      "Model 2: choice ~ probe_choice_match_subgoal - 1 | 0 | 0\n",
      "  #Df  LogLik Df  Chisq Pr(>Chisq)    \n",
      "1   0 -2189.2                         \n",
      "2   1 -2161.8  1 54.689  1.412e-13 ***\n",
      "---\n",
      "Signif. codes:  0 ‘***’ 0.001 ‘**’ 0.01 ‘*’ 0.05 ‘.’ 0.1 ‘ ’ 1\n",
      "\n",
      "\n",
      "\n",
      "\n",
      "\n",
      "\n",
      "\n",
      "\n",
      "\n",
      "\n",
      "\n",
      "\n",
      "Call:\n",
      "mlogit(formula = choice ~ probe_choice_match_solway2014 - 1 | \n",
      "    0 | 0, data = dff, rpar = NULL, R = R, halton = NA, panel = FALSE, \n",
      "    method = \"nr\")\n",
      "\n",
      "Frequencies of alternatives:choice\n",
      "        0         1         2         3         4         5 \n",
      "0.3952046 0.4241422 0.1550227 0.0206697 0.0024804 0.0024804 \n",
      "\n",
      "nr method\n",
      "3 iterations, 0h:0m:0s \n",
      "g'(-H)^-1g = 0.0026 \n",
      "successive function values within tolerance limits \n",
      "\n",
      "Coefficients :\n",
      "                                  Estimate Std. Error z-value  Pr(>|z|)    \n",
      "probe_choice_match_solway2014TRUE 0.476256   0.060789  7.8346 4.663e-15 ***\n",
      "---\n",
      "Signif. codes:  0 ‘***’ 0.001 ‘**’ 0.01 ‘*’ 0.05 ‘.’ 0.1 ‘ ’ 1\n",
      "\n",
      "Log-Likelihood: -2157.9\n",
      "Likelihood ratio test\n",
      "\n",
      "Model 1: choice ~ -1\n",
      "Model 2: choice ~ probe_choice_match_solway2014 - 1 | 0 | 0\n",
      "  #Df  LogLik Df  Chisq Pr(>Chisq)    \n",
      "1   0 -2189.2                         \n",
      "2   1 -2157.9  1 62.482  2.689e-15 ***\n",
      "---\n",
      "Signif. codes:  0 ‘***’ 0.001 ‘**’ 0.01 ‘*’ 0.05 ‘.’ 0.1 ‘ ’ 1\n"
     ]
    }
   ],
   "source": [
    "pred_optimal_choice.PredictOptimalChoice(exp).multinomial_model('subgoal')\n",
    "print('\\n'*10)\n",
    "pred_optimal_choice.PredictOptimalChoice(exp).multinomial_model('solway2014')"
   ]
  },
  {
   "cell_type": "code",
   "execution_count": 19,
   "id": "a4f72c23-67b9-46d0-9065-65476de3447b",
   "metadata": {},
   "outputs": [
    {
     "name": "stdout",
     "output_type": "stream",
     "text": [
      "observed is larger than 100000 / 100000 samples -- percentile=100.00%\n",
      "observed 0.7544439851178173 expected mean 0.7054223508336778 expected variance 4.402077971634882e-05\n",
      "MC-sampled mean 0.7054408061182307 MC-sampled variance 4.3899377120720436e-05\n"
     ]
    },
    {
     "data": {
      "image/png": "[encoded data removed]",
      "text/plain": [
       "<Figure size 640x480 with 1 Axes>"
      ]
     },
     "metadata": {},
     "output_type": "display_data"
    },
    {
     "name": "stdout",
     "output_type": "stream",
     "text": [
      "observed is larger than 100000 / 100000 samples -- percentile=100.00%\n",
      "observed 0.7064902852418354 expected mean 0.6519911809287584 expected variance 4.761549952226423e-05\n",
      "MC-sampled mean 0.6520124844977263 MC-sampled variance 4.7446981883979314e-05\n"
     ]
    },
    {
     "data": {
      "image/png": "[encoded data removed]",
      "text/plain": [
       "<Figure size 640x480 with 1 Axes>"
      ]
     },
     "metadata": {},
     "output_type": "display_data"
    }
   ],
   "source": [
    "# seed = np.random.randint(2**30)\n",
    "seed = 470688461\n",
    "\n",
    "plt.figure()\n",
    "pred_optimal_choice.PredictOptimalChoice(exp).mc_test('subgoal', seed=seed)\n",
    "plt.show()\n",
    "\n",
    "plt.figure()\n",
    "pred_optimal_choice.PredictOptimalChoice(exp).mc_test('solway2014', seed=seed)\n",
    "plt.show()"
   ]
  },
  {
   "cell_type": "markdown",
   "id": "64652111-ccae-40a0-8335-8f1149609413",
   "metadata": {},
   "source": [
    "# How many people used a visual aid?"
   ]
  },
  {
   "cell_type": "code",
   "execution_count": 20,
   "id": "cb38ed9e-b983-4b85-aefa-8d781d09ea76",
   "metadata": {},
   "outputs": [
    {
     "data": {
      "text/plain": [
       "Counter({'Rarely looked': 65,\n",
       "         'Did not draw/take picture': 603,\n",
       "         'Sometimes looked': 90,\n",
       "         'Often looked': 48})"
      ]
     },
     "execution_count": 20,
     "metadata": {},
     "output_type": "execute_result"
    }
   ],
   "source": [
    "collections.Counter([\n",
    "    p.questiondata['picture_draw']\n",
    "    for p in exp.participants\n",
    "])"
   ]
  },
  {
   "cell_type": "markdown",
   "id": "a775f20f-f8cf-4454-987d-d9310a6053b9",
   "metadata": {},
   "source": [
    "# Appendix: *Predicting navigation response times*\n",
    "\n",
    "Does RT change as predicted by in-the-moment planning?"
   ]
  },
  {
   "cell_type": "markdown",
   "id": "1cd75d51-f819-4417-8fb3-fe113984e8dd",
   "metadata": {},
   "source": [
    "## Is participant RT higher at self-reported subgoals?"
   ]
  },
  {
   "cell_type": "code",
   "execution_count": 21,
   "id": "872045a0-9d22-44cc-8c60-b04b989bfa07",
   "metadata": {},
   "outputs": [
    {
     "data": {
      "text/plain": [
       "(22500, 4)"
      ]
     },
     "execution_count": 21,
     "metadata": {},
     "output_type": "execute_result"
    }
   ],
   "source": [
    "df = []\n",
    "for p in exp.participants:\n",
    "    # First, we gather probe-specific subgoal choices\n",
    "    seen = {}\n",
    "    for t in p.probe_trials(return_obj=True):\n",
    "        seen.setdefault(t.row.data['copy'], {})[t.start, t.goal] = t.selected\n",
    "\n",
    "    for copy in analysis.probes:\n",
    "        if copy.key == 'busStop': continue\n",
    "\n",
    "        for t in p.navigation_trials(return_obj=True):\n",
    "            sg = seen[copy.key].get((t.start, t.goal))\n",
    "            # Skip if not paired to a probe choice.\n",
    "            if sg is None:\n",
    "                continue\n",
    "            # Skip if behavior is not optimal.\n",
    "            if not t.is_optimal:\n",
    "                continue\n",
    "            # Skip if the subgoal is not along their path.\n",
    "            if sg not in t.row.data['states']:\n",
    "                continue\n",
    "            # Skip if they selected the goal instead of the subgoal.\n",
    "            if sg == t.goal:\n",
    "                # Would be interesting to analyze this case in the future, but it's a relatively small # of choices, only 340\n",
    "                # and feels like it would have to be adapted to make sense.\n",
    "                assert copy.key == 'subgoal', 'should be an invariant'\n",
    "                continue\n",
    "\n",
    "            sg_idx = t.row.data['states'].index(sg)\n",
    "\n",
    "            # Break dwell events into categories.\n",
    "            de = t.dwell_events()\n",
    "            initial_ev = de[0]\n",
    "            sg_ev = de[sg_idx]\n",
    "            assert sg_ev.state == sg, 'asserting dwell event order makes sense'\n",
    "            other_ev = de[1:sg_idx] + de[sg_idx+1:]\n",
    "            assert 2 + len(other_ev) == len(de), 'asserting we sliced appropriately'\n",
    "\n",
    "            def _add_event(ev_type, ev):\n",
    "                df.append(dict(\n",
    "                    copy=copy.key,\n",
    "                    pid=p.pid,\n",
    "                    type=ev_type,\n",
    "                    rt_sec=ev.duration_sec,\n",
    "                ))\n",
    "\n",
    "            _add_event('initial', initial_ev)\n",
    "            _add_event('subgoal', sg_ev)\n",
    "            for ev in other_ev:\n",
    "                _add_event('other', ev)\n",
    "\n",
    "df = pd.DataFrame(df)\n",
    "df.shape"
   ]
  },
  {
   "cell_type": "code",
   "execution_count": 22,
   "id": "84daeae1-b06a-44c5-8c9e-41a7dd372613",
   "metadata": {},
   "outputs": [
    {
     "data": {
      "text/html": [
       "<div>\n",
       "<style scoped>\n",
       "    .dataframe tbody tr th:only-of-type {\n",
       "        vertical-align: middle;\n",
       "    }\n",
       "\n",
       "    .dataframe tbody tr th {\n",
       "        vertical-align: top;\n",
       "    }\n",
       "\n",
       "    .dataframe thead th {\n",
       "        text-align: right;\n",
       "    }\n",
       "</style>\n",
       "<table border=\"1\" class=\"dataframe\">\n",
       "  <thead>\n",
       "    <tr style=\"text-align: right;\">\n",
       "      <th>type</th>\n",
       "      <th>initial</th>\n",
       "      <th>other</th>\n",
       "      <th>subgoal</th>\n",
       "    </tr>\n",
       "  </thead>\n",
       "  <tbody>\n",
       "    <tr>\n",
       "      <th>mean</th>\n",
       "      <td>5.357502</td>\n",
       "      <td>1.697118</td>\n",
       "      <td>1.995791</td>\n",
       "    </tr>\n",
       "    <tr>\n",
       "      <th>std</th>\n",
       "      <td>7.585620</td>\n",
       "      <td>1.122622</td>\n",
       "      <td>1.377840</td>\n",
       "    </tr>\n",
       "    <tr>\n",
       "      <th>sem</th>\n",
       "      <td>0.278477</td>\n",
       "      <td>0.041213</td>\n",
       "      <td>0.050582</td>\n",
       "    </tr>\n",
       "  </tbody>\n",
       "</table>\n",
       "</div>"
      ],
      "text/plain": [
       "type   initial     other   subgoal\n",
       "mean  5.357502  1.697118  1.995791\n",
       "std   7.585620  1.122622  1.377840\n",
       "sem   0.278477  0.041213  0.050582"
      ]
     },
     "metadata": {},
     "output_type": "display_data"
    },
    {
     "name": "stdout",
     "output_type": "stream",
     "text": [
      "initial\n",
      "$M=5.36$ $SD=7.58$\n",
      "\n",
      "subgoal\n",
      "$M=2.00$ $SD=1.38$\n",
      "\n",
      "other\n",
      "$M=1.70$ $SD=1.12$\n",
      "\n",
      "\n",
      "\tWelch Two Sample t-test\n",
      "\n",
      "data:  df$initial and df$subgoal\n",
      "t = 11.877, df = 789.84, p-value < 2.2e-16\n",
      "alternative hypothesis: true difference in means is not equal to 0\n",
      "95 percent confidence interval:\n",
      " 2.806125 3.917298\n",
      "sample estimates:\n",
      "mean of x mean of y \n",
      " 5.357502  1.995791 \n",
      "\n",
      "$t(789.8)=11.9$\n",
      "\n",
      "\n",
      "\tWelch Two Sample t-test\n",
      "\n",
      "data:  df$initial and df$other\n",
      "t = 13.003, df = 773.44, p-value < 2.2e-16\n",
      "alternative hypothesis: true difference in means is not equal to 0\n",
      "95 percent confidence interval:\n",
      " 3.107771 4.212999\n",
      "sample estimates:\n",
      "mean of x mean of y \n",
      " 5.357502  1.697118 \n",
      "\n",
      "$t(773.4)=13.0$\n",
      "\n",
      "\n",
      "\tWelch Two Sample t-test\n",
      "\n",
      "data:  df$subgoal and df$other\n",
      "t = 4.5776, df = 1423.9, p-value = 5.112e-06\n",
      "alternative hypothesis: true difference in means is not equal to 0\n",
      "95 percent confidence interval:\n",
      " 0.1706847 0.4266618\n",
      "sample estimates:\n",
      "mean of x mean of y \n",
      " 1.995791  1.697118 \n",
      "\n",
      "$t(1423.9)=4.6$\n",
      "\n"
     ]
    }
   ],
   "source": [
    "def _analyze(df):\n",
    "    from IPython.display import display\n",
    "    \n",
    "    by_pid = df.groupby(['type', 'pid']).mean().reset_index().pivot(index='pid', columns='type', values='rt_sec')\n",
    "\n",
    "    display(by_pid.agg(['mean', 'std', 'sem']))\n",
    "\n",
    "    for k in ['initial', 'subgoal', 'other']:\n",
    "        print(k)\n",
    "        meansd(by_pid[k])\n",
    "        print()\n",
    "\n",
    "    for a, b in [\n",
    "        ('initial', 'subgoal'),\n",
    "        ('initial', 'other'),\n",
    "        ('subgoal', 'other'),\n",
    "    ]:\n",
    "        tools1_11.r_with_vars(f'''\n",
    "        res = t.test(df${a}, df${b})\n",
    "        show(res)\n",
    "        writeLines(sprintf('$t(%.1f)=%.1f$\\n', res$parameter, res$statistic))\n",
    "        ''', df=by_pid)\n",
    "\n",
    "_analyze(df[df['copy']=='subgoal'])"
   ]
  },
  {
   "cell_type": "code",
   "execution_count": 23,
   "id": "7e42ed1c-ea05-49ed-9eeb-b111e2d4961f",
   "metadata": {},
   "outputs": [
    {
     "data": {
      "text/html": [
       "<div>\n",
       "<style scoped>\n",
       "    .dataframe tbody tr th:only-of-type {\n",
       "        vertical-align: middle;\n",
       "    }\n",
       "\n",
       "    .dataframe tbody tr th {\n",
       "        vertical-align: top;\n",
       "    }\n",
       "\n",
       "    .dataframe thead th {\n",
       "        text-align: right;\n",
       "    }\n",
       "</style>\n",
       "<table border=\"1\" class=\"dataframe\">\n",
       "  <thead>\n",
       "    <tr style=\"text-align: right;\">\n",
       "      <th>type</th>\n",
       "      <th>initial</th>\n",
       "      <th>other</th>\n",
       "      <th>subgoal</th>\n",
       "    </tr>\n",
       "  </thead>\n",
       "  <tbody>\n",
       "    <tr>\n",
       "      <th>mean</th>\n",
       "      <td>5.426454</td>\n",
       "      <td>1.589867</td>\n",
       "      <td>2.051105</td>\n",
       "    </tr>\n",
       "    <tr>\n",
       "      <th>std</th>\n",
       "      <td>8.837042</td>\n",
       "      <td>0.816369</td>\n",
       "      <td>1.448168</td>\n",
       "    </tr>\n",
       "    <tr>\n",
       "      <th>sem</th>\n",
       "      <td>0.319504</td>\n",
       "      <td>0.029516</td>\n",
       "      <td>0.052359</td>\n",
       "    </tr>\n",
       "  </tbody>\n",
       "</table>\n",
       "</div>"
      ],
      "text/plain": [
       "type   initial     other   subgoal\n",
       "mean  5.426454  1.589867  2.051105\n",
       "std   8.837042  0.816369  1.448168\n",
       "sem   0.319504  0.029516  0.052359"
      ]
     },
     "metadata": {},
     "output_type": "display_data"
    },
    {
     "name": "stdout",
     "output_type": "stream",
     "text": [
      "initial\n",
      "$M=5.43$ $SD=8.83$\n",
      "\n",
      "subgoal\n",
      "$M=2.05$ $SD=1.45$\n",
      "\n",
      "other\n",
      "$M=1.59$ $SD=0.82$\n",
      "\n",
      "\n",
      "\tWelch Two Sample t-test\n",
      "\n",
      "data:  df$initial and df$subgoal\n",
      "t = 10.425, df = 805, p-value < 2.2e-16\n",
      "alternative hypothesis: true difference in means is not equal to 0\n",
      "95 percent confidence interval:\n",
      " 2.739825 4.010874\n",
      "sample estimates:\n",
      "mean of x mean of y \n",
      " 5.426454  2.051105 \n",
      "\n",
      "$t(805.0)=10.4$\n",
      "\n",
      "\n",
      "\tWelch Two Sample t-test\n",
      "\n",
      "data:  df$initial and df$other\n",
      "t = 11.957, df = 777.04, p-value < 2.2e-16\n",
      "alternative hypothesis: true difference in means is not equal to 0\n",
      "95 percent confidence interval:\n",
      " 3.206723 4.466451\n",
      "sample estimates:\n",
      "mean of x mean of y \n",
      " 5.426454  1.589867 \n",
      "\n",
      "$t(777.0)=12.0$\n",
      "\n",
      "\n",
      "\tWelch Two Sample t-test\n",
      "\n",
      "data:  df$subgoal and df$other\n",
      "t = 7.6739, df = 1205, p-value = 3.43e-14\n",
      "alternative hypothesis: true difference in means is not equal to 0\n",
      "95 percent confidence interval:\n",
      " 0.3433156 0.5791598\n",
      "sample estimates:\n",
      "mean of x mean of y \n",
      " 2.051105  1.589867 \n",
      "\n",
      "$t(1205.0)=7.7$\n",
      "\n"
     ]
    }
   ],
   "source": [
    "_analyze(df[df['copy']=='solway2014'])"
   ]
  },
  {
   "cell_type": "markdown",
   "id": "40e22516-b78f-4b83-aafa-cb49ae61537e",
   "metadata": {},
   "source": [
    "# Appendix: *The influence of graph complexity and structure on subgoal choice*\n",
    "\n",
    "Does graph complexity predict how often people choose subgoals?"
   ]
  },
  {
   "cell_type": "code",
   "execution_count": 24,
   "id": "f7667999-5c4f-4d08-ba8b-3afe566f3e16",
   "metadata": {},
   "outputs": [],
   "source": [
    "import hitting_time, rrtd\n",
    "    \n",
    "g_df = []\n",
    "\n",
    "for gi, ps in exp.group_participants_by(lambda p: p.config_idx()['graph']).items():\n",
    "    scc = np.mean([\n",
    "        p.subgoal_choice_count_on_explicit_trials()\n",
    "        for p in ps\n",
    "    ])\n",
    "    mdp = ps[0].mdp()\n",
    "\n",
    "    # edge count\n",
    "    A = rrtd.binary_adjacency_ssp(mdp)\n",
    "    assert np.all(A == A.T), 'ensure symmetry'\n",
    "    assert np.allclose(A[np.eye(A.shape[0], dtype=bool)], 0), 'ensure none absorbing'\n",
    "    directed_edge_count = A.sum()\n",
    "    assert directed_edge_count % 2 == 0, 'should be even because the graph is undirected'\n",
    "    edge_count = directed_edge_count / 2\n",
    "\n",
    "    spectral_gap = hitting_time.spectral_gap(mdp)\n",
    "\n",
    "    g_df.append(dict(\n",
    "        gi=gi,\n",
    "        edge_count=edge_count,\n",
    "        subgoal_choice_count=scc,\n",
    "        spectral_gap=spectral_gap,\n",
    "    ))\n",
    "\n",
    "g_df = pd.DataFrame(g_df)"
   ]
  },
  {
   "cell_type": "code",
   "execution_count": 25,
   "id": "7c23207e-bf32-47c7-a58e-f9598968d418",
   "metadata": {},
   "outputs": [
    {
     "name": "stdout",
     "output_type": "stream",
     "text": [
      "edge_count ($r=0.04$, $p = .821$)\n",
      "spectral_gap ($r=-0.22$, $p = .246$)\n"
     ]
    }
   ],
   "source": [
    "for var in [\n",
    "    'edge_count',\n",
    "    'spectral_gap',\n",
    "]:\n",
    "    c, pv = scipy.stats.pearsonr(g_df[var], g_df.subgoal_choice_count)\n",
    "    print(var, f'($r={c:.02f}$, ${analysis.pvalue(pv)}$)')"
   ]
  },
  {
   "cell_type": "code",
   "execution_count": null,
   "id": "a92cc5b7-ca73-4113-8f5e-a3788e49460d",
   "metadata": {},
   "outputs": [],
   "source": []
  }
 ],
 "metadata": {
  "kernelspec": {
   "display_name": "Python 3 (ipykernel)",
   "language": "python",
   "name": "python3"
  },
  "language_info": {
   "codemirror_mode": {
    "name": "ipython",
    "version": 3
   },
   "file_extension": ".py",
   "mimetype": "text/x-python",
   "name": "python",
   "nbconvert_exporter": "python",
   "pygments_lexer": "ipython3",
   "version": "3.9.9"
  }
 },
 "nbformat": 4,
 "nbformat_minor": 5
}
